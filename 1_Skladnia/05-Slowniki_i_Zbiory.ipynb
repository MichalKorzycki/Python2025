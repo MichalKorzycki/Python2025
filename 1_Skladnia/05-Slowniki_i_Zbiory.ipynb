{
 "cells": [
  {
   "cell_type": "markdown",
   "metadata": {},
   "source": [
    "## Słowniki (dict)"
   ]
  },
  {
   "cell_type": "code",
   "execution_count": null,
   "metadata": {},
   "outputs": [],
   "source": [
    "m = { 'a': 1, 'b': 2 }"
   ]
  },
  {
   "cell_type": "code",
   "execution_count": null,
   "metadata": {},
   "outputs": [],
   "source": [
    "m.keys()"
   ]
  },
  {
   "cell_type": "code",
   "execution_count": null,
   "metadata": {},
   "outputs": [],
   "source": [
    "m.values()"
   ]
  },
  {
   "cell_type": "code",
   "execution_count": null,
   "metadata": {},
   "outputs": [],
   "source": [
    "m['a']"
   ]
  },
  {
   "cell_type": "code",
   "execution_count": null,
   "metadata": {},
   "outputs": [],
   "source": [
    "m['c'] # Błąd!"
   ]
  },
  {
   "cell_type": "code",
   "execution_count": null,
   "metadata": {},
   "outputs": [],
   "source": [
    "m.get('c', 0)"
   ]
  },
  {
   "cell_type": "code",
   "execution_count": null,
   "metadata": {},
   "outputs": [],
   "source": [
    "m = dict( [(\"a\", 1), (\"b\", 2)] )"
   ]
  },
  {
   "cell_type": "code",
   "execution_count": null,
   "metadata": {},
   "outputs": [],
   "source": [
    "m"
   ]
  },
  {
   "cell_type": "code",
   "execution_count": null,
   "metadata": {},
   "outputs": [],
   "source": [
    "l = [ \"a\", \"b\", \"c\" ]\n",
    "l"
   ]
  },
  {
   "cell_type": "code",
   "execution_count": null,
   "metadata": {},
   "outputs": [],
   "source": [
    "list(zip( range(len(l)),l ))"
   ]
  },
  {
   "cell_type": "code",
   "execution_count": null,
   "metadata": {},
   "outputs": [],
   "source": [
    "li = list(range(len(l)))\n",
    "li"
   ]
  },
  {
   "cell_type": "code",
   "execution_count": null,
   "metadata": {},
   "outputs": [],
   "source": [
    "l"
   ]
  },
  {
   "cell_type": "code",
   "execution_count": null,
   "metadata": {},
   "outputs": [],
   "source": [
    "list(zip(li, l))"
   ]
  },
  {
   "cell_type": "code",
   "execution_count": null,
   "metadata": {},
   "outputs": [],
   "source": [
    "m = dict(zip( range(len(l)), l))\n",
    "m"
   ]
  },
  {
   "cell_type": "code",
   "execution_count": null,
   "metadata": {},
   "outputs": [],
   "source": [
    "for k in m.keys():\n",
    "    print (k, m[k])"
   ]
  },
  {
   "cell_type": "code",
   "execution_count": null,
   "metadata": {},
   "outputs": [],
   "source": [
    "for k in m:\n",
    "    print( k, m[k])"
   ]
  },
  {
   "cell_type": "code",
   "execution_count": null,
   "metadata": {},
   "outputs": [],
   "source": [
    "for k,v in m.items():\n",
    "    print( k, v )"
   ]
  },
  {
   "cell_type": "code",
   "execution_count": null,
   "metadata": {},
   "outputs": [],
   "source": [
    "{ (1,2): \"a\", (1,2,3): \"b\"}"
   ]
  },
  {
   "cell_type": "code",
   "execution_count": null,
   "metadata": {},
   "outputs": [],
   "source": [
    "{ [1,2]: \"a\", [1,2,3]: \"b\"} # Błąd!"
   ]
  },
  {
   "cell_type": "markdown",
   "metadata": {},
   "source": [
    "---\n",
    "## Zbiory"
   ]
  },
  {
   "cell_type": "code",
   "execution_count": null,
   "metadata": {},
   "outputs": [],
   "source": [
    "zbior = set()"
   ]
  },
  {
   "cell_type": "code",
   "execution_count": null,
   "metadata": {},
   "outputs": [],
   "source": [
    "zbior.add(3)\n",
    "zbior.add(4)\n",
    "zbior.add(3)\n",
    "zbior"
   ]
  },
  {
   "cell_type": "code",
   "execution_count": null,
   "metadata": {},
   "outputs": [],
   "source": [
    "zbior = {3, 4, 5}"
   ]
  },
  {
   "cell_type": "code",
   "execution_count": null,
   "metadata": {},
   "outputs": [],
   "source": [
    "zbior.add(3)\n",
    "zbior.add(4)\n",
    "zbior.add(7)\n",
    "zbior"
   ]
  },
  {
   "cell_type": "markdown",
   "metadata": {},
   "source": [
    "---\n",
    "# Literatura (darmowe wersje online)"
   ]
  },
  {
   "cell_type": "markdown",
   "metadata": {},
   "source": [
    "## Książki wprowadzające\n",
    "- [Python 101](http://python101.pythonlibrary.org/) – pierwsze 10 rozdziałów wystarczy by zacząc efektywnie pracować z Pythonem\n",
    "- [Automate the Boring Stuff with Python](https://automatetheboringstuff.com/) – bardzo praktyczne podejście do Pythona. Gorąco polecam.\n",
    "- [Python Docs](https://docs.python.org/3/) – Dokumentacja do Pythona\n",
    "\n",
    "## Książki dla osób z pewnym doświadczeniem\n",
    "- [Python Data Science Handbook](https://jakevdp.github.io/PythonDataScienceHandbook/) – Prawie wszystko co może potrzebować data scientist do pracy\n",
    "- [Dive into Python](https://diveintopython3.problemsolving.io/) –  Świetna książka do Pythona\n",
    "    - [Zanurkuj w Pythonie](https://pl.wikibooks.org/wiki/Zanurkuj_w_Pythonie) – Polska wersja\n",
    "- [Think Bayes](https://greenteapress.com/wp/think-bayes/) – Wprowadzenie do statystyki Bayesowskiej\n",
    "- [Think Stats](https://greenteapress.com/wp/think-stats-2e/) – Wprowadzenie do statystyki Bayesowskiej\n",
    "- [Natural Language Processing in Python](https://www.nltk.org/book/) – wprowadzenie do przetwarzania języka naturalnego w Pythonie\n",
    "\n",
    "## Zaawansowane tematy\n",
    "- [The Elements of Statistical Learning](https://web.stanford.edu/~hastie/Papers/ESLII.pdf) – prawdopodobnie najbardziej wyczerpująca książka o Machine Learning\n",
    "- [Foundations of Statistical NLP](https://nlp.stanford.edu/fsnlp/) – książka o statystycznym przetwarzaniu języka naturalnego\n",
    "- [Introduction to Information Retrieval](https://nlp.stanford.edu/IR-book/) – Podstawy formalne ekstrakcji informacji  \n",
    "\n",
    "## Polecane lektury\n",
    "- [Peter Norvig - The Unreasonable Effectiveness of Data](https://static.googleusercontent.com/media/research.google.com/en//pubs/archive/35179.pdf)\n",
    "- [Andrew Ng – Machine Learning Yearning](https://www.deeplearning.ai/machine-learning-yearning/)\n",
    "- [Tidy Data](https://vita.had.co.nz/papers/tidy-data.pdf) - Klasyczny artykuł o tym jak doprowadzić dane do najlepszej postaci pod kątem analiz\n"
   ]
  }
 ],
 "metadata": {
  "kernelspec": {
   "display_name": "Python [conda env:base] *",
   "language": "python",
   "name": "conda-base-py"
  },
  "language_info": {
   "codemirror_mode": {
    "name": "ipython",
    "version": 3
   },
   "file_extension": ".py",
   "mimetype": "text/x-python",
   "name": "python",
   "nbconvert_exporter": "python",
   "pygments_lexer": "ipython3",
   "version": "3.12.7"
  },
  "widgets": {
   "application/vnd.jupyter.widget-state+json": {
    "state": {},
    "version_major": 2,
    "version_minor": 0
   }
  }
 },
 "nbformat": 4,
 "nbformat_minor": 4
}
