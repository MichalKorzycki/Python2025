{
 "cells": [
  {
   "cell_type": "markdown",
   "metadata": {},
   "source": [
    "  - Mnożenie i dodawanie napisów\n",
    "  - Czy Python > Java ?\n",
    "  - Funkcje wbudowane (składowe)\n",
    "    - `upper`\n",
    "    - `lower`\n",
    "    - `title`\n",
    "    - `replace`\n",
    "    - `strip`\n",
    "    - `count`\n",
    "    - `find`\n",
    "    - https://docs.python.org/3/library/stdtypes.html#text-sequence-type-str\n",
    "  - Łańcuchy funkcji (ang. *chaining*)\n",
    "\n",
    "  - Cięcie napisów\n",
    "  - Formatowanie napisów"
   ]
  },
  {
   "cell_type": "code",
   "execution_count": 1,
   "metadata": {},
   "outputs": [
    {
     "data": {
      "text/plain": [
       "'Tomek Ma Kota'"
      ]
     },
     "execution_count": 1,
     "metadata": {},
     "output_type": "execute_result"
    }
   ],
   "source": [
    "napis = \"ala ma kota\"\n",
    "napis = napis.upper()\n",
    "napis\n",
    "napis = napis.lower()\n",
    "napis\n",
    "napis = napis.title()\n",
    "napis.replace('Ala', 'Tomek')\n",
    "napis\n",
    "napis = napis.replace('Ala', 'Tomek')\n",
    "napis\n",
    "\n",
    "napis = 'AAAAKupię kota    '\n",
    "napis.count('A')\n",
    "napis = napis.strip()\n",
    "napis\n",
    "napis = napis.strip('A')\n",
    "napis\n",
    "\n",
    "\n",
    "\n",
    "napis = 'AAAAKupię kota    '\n",
    "napis.find('z')\n",
    "napis.find('kot')\n",
    "napis[napis.find('kot')]\n",
    "n = napis.find('k')\n",
    "napis[n:n+3]\n",
    "\n",
    "napis = \"ala ma kota\"\n",
    "napis = napis.title().replace('Ala', 'Tomek')\n",
    "napis\n",
    "\n"
   ]
  },
  {
   "cell_type": "code",
   "execution_count": 2,
   "metadata": {},
   "outputs": [
    {
     "ename": "TypeError",
     "evalue": "can only concatenate str (not \"int\") to str",
     "output_type": "error",
     "traceback": [
      "\u001b[1;31m---------------------------------------------------------------------------\u001b[0m",
      "\u001b[1;31mTypeError\u001b[0m                                 Traceback (most recent call last)",
      "Cell \u001b[1;32mIn[2], line 13\u001b[0m\n\u001b[0;32m     10\u001b[0m s3\n\u001b[0;32m     11\u001b[0m s\n\u001b[1;32m---> 13\u001b[0m s \u001b[38;5;241m+\u001b[39m \u001b[38;5;241m3\u001b[39m \u001b[38;5;66;03m# Błąd !\u001b[39;00m\n\u001b[0;32m     15\u001b[0m s \u001b[38;5;241m*\u001b[39m \u001b[38;5;241m3\u001b[39m\n\u001b[0;32m     17\u001b[0m \u001b[38;5;124m\"\u001b[39m\u001b[38;5;124mPython\u001b[39m\u001b[38;5;124m\"\u001b[39m \u001b[38;5;241m>\u001b[39m \u001b[38;5;124m\"\u001b[39m\u001b[38;5;124mJava\u001b[39m\u001b[38;5;124m\"\u001b[39m\n",
      "\u001b[1;31mTypeError\u001b[0m: can only concatenate str (not \"int\") to str"
     ]
    }
   ],
   "source": [
    "s = \"Ala\"\n",
    "s2 = \" ma kota\"\n",
    "s + s2\n",
    "\n",
    "s1 = s\n",
    "s1 is s\n",
    "\n",
    "s3 = s\n",
    "s3 += \" ma kota\"\n",
    "s3\n",
    "s\n",
    "\n",
    "s + 3 # Błąd !\n",
    "\n",
    "s * 3\n",
    "\n",
    "\"Python\" > \"Java\"\n",
    "s == \"Ala\"\n",
    "\n",
    "\"10\" < \"2\"\n",
    "10 < 2"
   ]
  },
  {
   "cell_type": "code",
   "execution_count": 3,
   "metadata": {},
   "outputs": [
    {
     "name": "stdout",
     "output_type": "stream",
     "text": [
      "['Ala', 'ma', 'kota']\n",
      "Ala:ma:kota\n",
      "['Ala', 'ma', 'kota']\n"
     ]
    },
    {
     "data": {
      "text/plain": [
       "'1\\t2\\tala'"
      ]
     },
     "execution_count": 3,
     "metadata": {},
     "output_type": "execute_result"
    }
   ],
   "source": [
    "s = \"Ala ma kota\"\n",
    "l = s.split()\n",
    "print(l)\n",
    "s2 = \":\".join(l)\n",
    "print(s2)\n",
    "print(s2.split(':'))\n",
    "\n",
    "\"\\t\".join(\"1,2,ala\".split(','))"
   ]
  },
  {
   "cell_type": "code",
   "execution_count": null,
   "metadata": {},
   "outputs": [],
   "source": [
    "s = 'Ala ma {0} kotów'.format(5)\n",
    "s\n",
    "for n in range(5, 10):\n",
    "    print('Ala ma ' + str(n) + ' kotów')\n",
    "\n",
    "s = 'Ala ma {0} kot{1}'.format(5, 'ów')\n",
    "s\n",
    "\n",
    "s = 'Ala ma {0} kot{1}'.format(4, 'y')\n",
    "s\n",
    "\n",
    "a = 5\n",
    "f'{a}'\n",
    "\n",
    "f'Pi to jest mniej więcej {3.1415926:.3}'\n",
    "\n",
    "for i in range(12):\n",
    "    print(f'{i:2}')\n",
    "\n",
    "for i in range(12):\n",
    "    print(f'{i:02}')\n",
    "\n",
    "from math import pi\n",
    "pi\n",
    "f'{1234.5678:.4f}'\n",
    "f'{pi:.3}'\n",
    "f'{pi:.3f}'\n",
    "f'{pi-3:.3f}'\n",
    "f'{12:3d}'\n",
    "f'{12:03d}'\n",
    "f'{pi:<30.2f}'\n",
    "f'{pi:>30.2f}'\n",
    "f'{pi:->30.2f}'\n",
    "f'{pi:^30.2f}'\n",
    "f'{\"-\"*10}HELLO{\"-\"*10}'\n",
    "f'{\"HELLO\":-^25s}'"
   ]
  },
  {
   "cell_type": "code",
   "execution_count": null,
   "metadata": {},
   "outputs": [],
   "source": []
  },
  {
   "cell_type": "code",
   "execution_count": null,
   "metadata": {},
   "outputs": [],
   "source": [
    "\" - \".join( [\"Ala\", \"ma\", \"kota\"] )"
   ]
  },
  {
   "cell_type": "code",
   "execution_count": null,
   "metadata": {},
   "outputs": [],
   "source": [
    "\"\".join( [\"Ala\", \"ma\", \"kota\"] )"
   ]
  },
  {
   "cell_type": "code",
   "execution_count": null,
   "metadata": {},
   "outputs": [],
   "source": [
    "s2 = '.|.'"
   ]
  },
  {
   "cell_type": "code",
   "execution_count": null,
   "metadata": {},
   "outputs": [],
   "source": [
    "s2.join([\"Ala\", \"ma\", \"kota\"] )"
   ]
  }
 ],
 "metadata": {
  "kernelspec": {
   "display_name": "Python [conda env:base] *",
   "language": "python",
   "name": "conda-base-py"
  },
  "language_info": {
   "codemirror_mode": {
    "name": "ipython",
    "version": 3
   },
   "file_extension": ".py",
   "mimetype": "text/x-python",
   "name": "python",
   "nbconvert_exporter": "python",
   "pygments_lexer": "ipython3",
   "version": "3.12.7"
  },
  "widgets": {
   "application/vnd.jupyter.widget-state+json": {
    "state": {},
    "version_major": 2,
    "version_minor": 0
   }
  }
 },
 "nbformat": 4,
 "nbformat_minor": 4
}
