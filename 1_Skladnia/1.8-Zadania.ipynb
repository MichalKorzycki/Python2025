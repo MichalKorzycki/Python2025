{
 "cells": [
  {
   "cell_type": "markdown",
   "id": "14f9b81d",
   "metadata": {},
   "source": [
    "# Zadanie 1\n",
    "\n",
    "- w pętli, pobrać liczbę z `input`\n",
    "- wypisać \"piramidkę\"\n",
    "- np. po wprowadzeniu \"7\" powinno się ukazać:"
   ]
  },
  {
   "cell_type": "raw",
   "id": "03c4ed23",
   "metadata": {
    "vscode": {
     "languageId": "raw"
    }
   },
   "source": [
    "      *\n",
    "     ***\n",
    "    *****\n",
    "   *******\n",
    "  *********\n",
    " ***********\n",
    "*************     "
   ]
  },
  {
   "cell_type": "markdown",
   "id": "60e64c7e",
   "metadata": {},
   "source": [
    "# Zadanie 2\n",
    "\n",
    "- stworzyć kod który po pobranie liczby z `input` w zakresie `1-99` wypisze ją słownie"
   ]
  }
 ],
 "metadata": {
  "language_info": {
   "name": "python"
  }
 },
 "nbformat": 4,
 "nbformat_minor": 5
}
