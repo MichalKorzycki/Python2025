{
 "cells": [
  {
   "cell_type": "markdown",
   "id": "102c2a8a-979f-4ab7-bc3b-f3511e26e7ee",
   "metadata": {},
   "source": [
    "# Data Wrangling Łaczenie dwu `DataFrame` z sobą \n",
    "---"
   ]
  },
  {
   "cell_type": "code",
   "execution_count": null,
   "id": "b94ca5ae-a0bf-4da1-9f73-c9f40645fce0",
   "metadata": {},
   "outputs": [],
   "source": [
    "import pandas as pd\n",
    "import numpy as np\n",
    "df1 = pd.DataFrame(np.random.randn(10_000, 4), columns=list('ABCD'))\n",
    "\n",
    "df1"
   ]
  },
  {
   "cell_type": "code",
   "execution_count": null,
   "id": "b66563ce-24e8-4c70-bb00-9664e91912be",
   "metadata": {},
   "outputs": [],
   "source": [
    "import pandas as pd\n",
    "import numpy as np\n",
    "df2 = pd.DataFrame(np.random.randn(10_000, 4), columns=list('ABCD'))\n",
    "\n",
    "df2"
   ]
  },
  {
   "cell_type": "code",
   "execution_count": null,
   "id": "7d16f872-b815-425a-9376-446be53500f2",
   "metadata": {},
   "outputs": [],
   "source": [
    "pd.concat([df1, df2])"
   ]
  },
  {
   "cell_type": "code",
   "execution_count": null,
   "id": "4c04640f-b145-497b-a026-ae766c51bf1b",
   "metadata": {},
   "outputs": [],
   "source": [
    "pd.concat([df1, df2]).reset_index()"
   ]
  },
  {
   "cell_type": "code",
   "execution_count": null,
   "id": "a862ddaa-ed72-450b-b8dc-89d2d00b3602",
   "metadata": {},
   "outputs": [],
   "source": [
    "pd.concat([df1, df2], keys=[\"DF1\", \"DF2\"])"
   ]
  },
  {
   "cell_type": "code",
   "execution_count": null,
   "id": "45fe2c4c-b602-45d7-937a-1fb95c2e627d",
   "metadata": {},
   "outputs": [],
   "source": [
    "pd.concat([df1, df2], axis=1)"
   ]
  },
  {
   "cell_type": "code",
   "execution_count": null,
   "id": "9c456413-2564-4557-b7fd-948e0e9bef67",
   "metadata": {},
   "outputs": [],
   "source": [
    "pd.concat([df1, df2], axis=1, keys=[\"DF1\", \"DF2\"])"
   ]
  },
  {
   "cell_type": "code",
   "execution_count": null,
   "id": "0925d12b-8838-4870-87ab-17328aa8a3d6",
   "metadata": {},
   "outputs": [],
   "source": [
    "import pandas as pd\n",
    "import numpy as np\n",
    "\n",
    "df1 = pd.DataFrame(np.random.randn(10_000, 3), columns=list('ABC'))\n",
    "\n",
    "df1"
   ]
  },
  {
   "cell_type": "code",
   "execution_count": null,
   "id": "9775987b-0436-43be-8bec-1a77e8d2b8af",
   "metadata": {},
   "outputs": [],
   "source": [
    "df2 = pd.DataFrame(np.random.randn(1_000, 2), columns=list('EF'))\n",
    "\n",
    "df2"
   ]
  },
  {
   "cell_type": "code",
   "execution_count": null,
   "id": "61fbf7e4-1a2a-4576-98f1-b4d2f96b943d",
   "metadata": {},
   "outputs": [],
   "source": [
    "pd.concat([df1, df2])"
   ]
  },
  {
   "cell_type": "code",
   "execution_count": null,
   "id": "f5e4a93c-27fe-4a5c-83e8-d17ed0645a70",
   "metadata": {},
   "outputs": [],
   "source": [
    "pd.concat([df1, df2], axis=1)"
   ]
  },
  {
   "cell_type": "code",
   "execution_count": null,
   "id": "a2c04e2c-0d5b-4419-afa5-35a6a37b0d99",
   "metadata": {},
   "outputs": [],
   "source": [
    "pd.concat([df1, df2], axis=1, join='inner')"
   ]
  },
  {
   "cell_type": "code",
   "execution_count": null,
   "id": "7cbea902-0f80-49db-993e-72389fe6fdf3",
   "metadata": {},
   "outputs": [],
   "source": [
    "pd.concat([df1, df2], axis=1, join='outer')"
   ]
  },
  {
   "cell_type": "code",
   "execution_count": null,
   "id": "2ef83027-0970-4b57-8054-983d8a5c636a",
   "metadata": {},
   "outputs": [],
   "source": [
    "df0 = df1.drop(range(500)).reset_index()\n",
    "df0"
   ]
  },
  {
   "cell_type": "code",
   "execution_count": null,
   "id": "4f515524-3a53-4d72-bb23-fc3912ea79bd",
   "metadata": {},
   "outputs": [],
   "source": [
    "df3 = df2.reset_index()\n",
    "df3"
   ]
  },
  {
   "cell_type": "code",
   "execution_count": null,
   "id": "39052b5d-f6cb-4358-8875-80112b224baf",
   "metadata": {},
   "outputs": [],
   "source": [
    "pd.merge(df0, df3, on='index')"
   ]
  },
  {
   "cell_type": "markdown",
   "id": "9e55688c-715d-4bea-bff5-bc47375d4a5f",
   "metadata": {},
   "source": [
    "### __how {‘left’, ‘right’, ‘outer’, ‘inner’, ‘cross’}, default ‘left__\n",
    "\n",
    "- ##### __inner__: stwórz przecięcie indeksów; zachowaj porządek z ramki wywołującej\n",
    "\n",
    "- ##### __outer__: połącz indeksy; posortuj je leksykograficznie \n",
    "\n",
    "\n",
    "- ##### __left__: użyj indeksu bieżącej ramki\n",
    "\n",
    "- ##### __right__: użyj indeksu drugiej ramki\n",
    "\n",
    "- ##### __cross__: stwórz iloczyn kartezjański ramek"
   ]
  },
  {
   "cell_type": "code",
   "execution_count": null,
   "id": "b17e3393-fc68-495f-87c0-b5ce3e32a3dd",
   "metadata": {},
   "outputs": [],
   "source": [
    "pd.merge(df0, df3, on='index', how='inner')"
   ]
  },
  {
   "cell_type": "code",
   "execution_count": null,
   "id": "57bcc91c-f8fe-436e-b679-8fb0e0288620",
   "metadata": {},
   "outputs": [],
   "source": [
    "pd.merge(df0, df3, on='index', how=\"outer\")"
   ]
  },
  {
   "cell_type": "code",
   "execution_count": null,
   "id": "21770b79-74b3-4e93-9756-dc52094aefcb",
   "metadata": {},
   "outputs": [],
   "source": [
    "pd.merge(df0, df3, on='index', how=\"left\")"
   ]
  },
  {
   "cell_type": "code",
   "execution_count": null,
   "id": "ad518fe7-54d6-40eb-8cd4-0c497861b722",
   "metadata": {},
   "outputs": [],
   "source": [
    "pd.merge(df0, df3, on='index', how=\"right\")"
   ]
  },
  {
   "cell_type": "code",
   "execution_count": null,
   "id": "6a6c0882-382c-4479-beb5-6e21bc84dbfa",
   "metadata": {},
   "outputs": [],
   "source": [
    "df0.join(df3, lsuffix=\"_left\", rsuffix=\"_right\")"
   ]
  },
  {
   "cell_type": "code",
   "execution_count": null,
   "id": "24a1c9e2-e854-4370-9f6e-5118546c54c3",
   "metadata": {},
   "outputs": [],
   "source": [
    "df0.join(df3, lsuffix=\"_left\", rsuffix=\"_right\", how=\"inner\")"
   ]
  },
  {
   "cell_type": "markdown",
   "id": "cac622f9-1255-4d87-93af-9a469d1025e7",
   "metadata": {},
   "source": [
    "---\n",
    "## Porównanie wydajności"
   ]
  },
  {
   "cell_type": "code",
   "execution_count": null,
   "id": "1cb7f5b3-dfa0-4269-b832-4fb834c1847f",
   "metadata": {},
   "outputs": [],
   "source": [
    "%%timeit\n",
    "pd.merge(df0, df3, on='index', how=\"right\")"
   ]
  },
  {
   "cell_type": "code",
   "execution_count": null,
   "id": "0118585b-8133-4764-be5b-e7b78f5d2aaf",
   "metadata": {},
   "outputs": [],
   "source": [
    "%%timeit\n",
    "df0.join(df3, lsuffix=\"_left\", rsuffix=\"_right\", how=\"inner\")"
   ]
  },
  {
   "cell_type": "markdown",
   "id": "bd3601c5",
   "metadata": {},
   "source": [
    "## <span style=\"color: cyan\">WAŻNE</span>: Tak jak w bazie danych, róbmy `join` przy użyciu <span style=\"color: cyan\">indeksów</span>\n",
    "---"
   ]
  }
 ],
 "metadata": {
  "kernelspec": {
   "display_name": ".venv",
   "language": "python",
   "name": "python3"
  },
  "language_info": {
   "codemirror_mode": {
    "name": "ipython",
    "version": 3
   },
   "file_extension": ".py",
   "mimetype": "text/x-python",
   "name": "python",
   "nbconvert_exporter": "python",
   "pygments_lexer": "ipython3",
   "version": "3.12.0"
  }
 },
 "nbformat": 4,
 "nbformat_minor": 5
}
