{
 "cells": [
  {
   "cell_type": "markdown",
   "id": "dc1f28c3-4f83-40e1-99ff-77b8bf0d8c4f",
   "metadata": {},
   "source": [
    "# Pandas Grupowanie\n",
    "---\n",
    "- ### Grupowanie\n",
    "- ### Kubełkowanie (ang. *Binning*)\n",
    "  - #### Równych rozmiarów\n",
    "  - #### Oparty o kwantyle\n",
    "    "
   ]
  },
  {
   "cell_type": "code",
   "execution_count": null,
   "id": "082265f3-3477-4f11-bb00-7f65c69fe2da",
   "metadata": {},
   "outputs": [],
   "source": [
    "import numpy as np\n",
    "import pandas as pd\n",
    "df = pd.DataFrame({'value': np.random.randint(0, 100, 20)})\n",
    "df"
   ]
  },
  {
   "cell_type": "code",
   "execution_count": null,
   "id": "42abc02a-a7fd-42ee-a243-e5ec94ee1bd0",
   "metadata": {},
   "outputs": [],
   "source": [
    "list(range(0, 105, 10))"
   ]
  },
  {
   "cell_type": "code",
   "execution_count": null,
   "id": "215f282a-f3ef-4273-90b3-145aff3b186a",
   "metadata": {},
   "outputs": [],
   "source": [
    "pd.cut(df.value, range(0, 105, 10), right=False)"
   ]
  },
  {
   "cell_type": "code",
   "execution_count": null,
   "id": "d32034b7-ddd3-4429-af3a-535b22ce91df",
   "metadata": {},
   "outputs": [],
   "source": [
    "pd.cut(df.value, range(0, 105, 10), right=True)"
   ]
  },
  {
   "cell_type": "code",
   "execution_count": null,
   "id": "a7a2ba3b-1c2e-4e81-a71a-6b0c99ffb671",
   "metadata": {},
   "outputs": [],
   "source": [
    "labels = [\"{0} - {1}\".format(i, i + 9) for i in range(0, 100, 10)]\n",
    "labels"
   ]
  },
  {
   "cell_type": "code",
   "execution_count": null,
   "id": "4ef1eb29-3f60-4b2e-ab87-51fc6cde6868",
   "metadata": {},
   "outputs": [],
   "source": [
    "pd.cut(df.value, range(0, 105, 10), right=False, labels=labels)"
   ]
  },
  {
   "cell_type": "code",
   "execution_count": null,
   "id": "d7c4baea-1d1e-4ae7-8b0c-44156ed67670",
   "metadata": {},
   "outputs": [],
   "source": [
    "df['Group'] = pd.cut(df.value, range(0, 105, 10), right=False, labels=labels)\n",
    "df"
   ]
  },
  {
   "cell_type": "code",
   "execution_count": null,
   "id": "be38af6c-c328-44c2-b7f5-a1ee7d27430d",
   "metadata": {},
   "outputs": [],
   "source": [
    "df.groupby('Group').count()"
   ]
  },
  {
   "cell_type": "code",
   "execution_count": null,
   "id": "22b3dcb1-d6d2-4965-9b67-c8b0d1a5fd1a",
   "metadata": {},
   "outputs": [],
   "source": [
    "df.groupby('Group').sum()"
   ]
  },
  {
   "cell_type": "code",
   "execution_count": null,
   "id": "9600aece-8f50-411c-8f79-5624bacc210e",
   "metadata": {},
   "outputs": [],
   "source": [
    "df.groupby('Group').agg({'value': ['count', sum]})"
   ]
  },
  {
   "cell_type": "code",
   "execution_count": null,
   "id": "ab8a45ba-580b-4b4f-bbcf-108646d76653",
   "metadata": {},
   "outputs": [],
   "source": [
    "def line(series):\n",
    "    return '#'*len(series)"
   ]
  },
  {
   "cell_type": "code",
   "execution_count": null,
   "id": "cc33154e-00f5-4855-8e5a-81bb35251bd1",
   "metadata": {},
   "outputs": [],
   "source": [
    "df.groupby('Group').agg({'value': ['count', line]})"
   ]
  },
  {
   "cell_type": "code",
   "execution_count": null,
   "id": "008d22d6-30ee-4dd8-b22d-95b698156ec7",
   "metadata": {},
   "outputs": [],
   "source": [
    "grouped = df.groupby('Group' ).agg({'value': ['count', line]}).fillna(value=np.nan).replace(to_replace=np.nan, value='')\n",
    "grouped"
   ]
  },
  {
   "cell_type": "code",
   "execution_count": null,
   "id": "08fb94bf-6d1c-4f9e-a5b9-ce36ac06a90d",
   "metadata": {},
   "outputs": [],
   "source": [
    "[ df.quantile(q) for q in [.25, .5, .75] ] "
   ]
  },
  {
   "cell_type": "code",
   "execution_count": null,
   "id": "7344884a-a0c8-47de-bdde-a00c4b6a52c9",
   "metadata": {},
   "outputs": [],
   "source": [
    "pd.qcut(df['value'], q=4)"
   ]
  },
  {
   "cell_type": "code",
   "execution_count": null,
   "id": "ed35d19b-aa2a-4be4-a155-1a21523e72d2",
   "metadata": {},
   "outputs": [],
   "source": [
    "pd.qcut(df['value'], q=4, labels=range(1,5))"
   ]
  },
  {
   "cell_type": "code",
   "execution_count": null,
   "id": "869664b0-4551-4fa1-9e47-87209a21db62",
   "metadata": {},
   "outputs": [],
   "source": [
    "labels = ['1st Quartile', '2nd Quartile', '3rd Quartile', '4th Quartile']"
   ]
  },
  {
   "cell_type": "code",
   "execution_count": null,
   "id": "a910c77b-28c1-4687-bf19-941d46a44c83",
   "metadata": {},
   "outputs": [],
   "source": [
    "df['quartile']=pd.qcut(df['value'], q=4, labels=labels)\n",
    "df"
   ]
  },
  {
   "cell_type": "code",
   "execution_count": null,
   "id": "925c17e1-a9d8-4ffa-ae3c-8aa4e9a5d228",
   "metadata": {},
   "outputs": [],
   "source": [
    "df.groupby('quartile', observed=True).agg({\"value\": [\"count\", \"mean\", \"sum\"]})"
   ]
  },
  {
   "cell_type": "markdown",
   "id": "0db718eb-9178-4e7d-943f-770a7be3eb53",
   "metadata": {},
   "source": [
    "---"
   ]
  }
 ],
 "metadata": {
  "kernelspec": {
   "display_name": ".venv",
   "language": "python",
   "name": "python3"
  },
  "language_info": {
   "codemirror_mode": {
    "name": "ipython",
    "version": 3
   },
   "file_extension": ".py",
   "mimetype": "text/x-python",
   "name": "python",
   "nbconvert_exporter": "python",
   "pygments_lexer": "ipython3",
   "version": "3.12.0"
  }
 },
 "nbformat": 4,
 "nbformat_minor": 5
}
