{
 "cells": [
  {
   "cell_type": "markdown",
   "id": "102c2a8a-979f-4ab7-bc3b-f3511e26e7ee",
   "metadata": {},
   "source": [
    "# Pandas a RDBMS\n",
    "---"
   ]
  },
  {
   "cell_type": "code",
   "execution_count": null,
   "id": "6fe1738e-338d-483b-87dc-bb7802820224",
   "metadata": {},
   "outputs": [],
   "source": [
    "import os\n",
    "\n",
    "try:\n",
    "    os.remove('data/database.db')  # Czyszczenie starej bazy\n",
    "except:\n",
    "    pass"
   ]
  },
  {
   "cell_type": "code",
   "execution_count": null,
   "id": "aaf616d6-cf2c-41ab-96ce-4664d013cd9e",
   "metadata": {},
   "outputs": [],
   "source": [
    "import sqlite3\n",
    "\n",
    "conn = sqlite3.connect('data/database.db')"
   ]
  },
  {
   "cell_type": "code",
   "execution_count": null,
   "id": "927ae47b-d357-44d0-bc58-4166c998019a",
   "metadata": {},
   "outputs": [],
   "source": [
    "conn.execute('''CREATE TABLE COMPANY\n",
    "         (ID INTEGER PRIMARY KEY     NOT NULL,\n",
    "         NAME           TEXT    NOT NULL,\n",
    "         CREATED DATETIME DEFAULT CURRENT_TIMESTAMP\n",
    "         );'''\n",
    "    );\n"
   ]
  },
  {
   "cell_type": "code",
   "execution_count": null,
   "id": "88703132-b78d-47c8-b6d1-e4a6128c1fa3",
   "metadata": {},
   "outputs": [],
   "source": [
    "conn.execute('''CREATE TABLE EMPLOYEE\n",
    "         (ID INTEGER PRIMARY KEY     AUTOINCREMENT,\n",
    "         NAME           TEXT    NOT NULL,\n",
    "         AGE            INT     NOT NULL,\n",
    "         SALARY         REAL,\n",
    "         COMPANY_ID     INT     NOT NULL,\n",
    "         CREATED DATETIME DEFAULT CURRENT_TIMESTAMP,\n",
    "         FOREIGN KEY(COMPANY_ID) REFERENCES COMPANY(ID)\n",
    "         );'''\n",
    "    );"
   ]
  },
  {
   "cell_type": "code",
   "execution_count": null,
   "id": "1c9c2a96-3abe-4b37-b011-1961d39ee6df",
   "metadata": {},
   "outputs": [],
   "source": [
    "conn.execute(\"INSERT INTO COMPANY (ID,NAME) VALUES (1, 'ACME')\");\n",
    "conn.execute(\"INSERT INTO COMPANY (ID,NAME) VALUES (2, 'COLA')\");\n",
    "conn.execute(\"INSERT INTO COMPANY (ID,NAME) VALUES (3, 'TOYS')\");"
   ]
  },
  {
   "cell_type": "code",
   "execution_count": null,
   "id": "98e4bf6f-f34f-4e7e-94f6-74d8f806d753",
   "metadata": {},
   "outputs": [],
   "source": [
    "conn.execute(\"INSERT INTO EMPLOYEE (NAME,AGE,SALARY,COMPANY_ID) VALUES ('John D.', 40, 5000.0, 1)\");\n",
    "conn.execute(\"INSERT INTO EMPLOYEE (NAME,AGE,SALARY,COMPANY_ID) VALUES ('Bob B.', 35, 4500.0, 1)\");\n",
    "conn.execute(\"INSERT INTO EMPLOYEE (NAME,AGE,SALARY,COMPANY_ID) VALUES ('Alice B.', 50, 6000.0, 1)\");\n",
    "conn.execute(\"INSERT INTO EMPLOYEE (NAME,AGE,SALARY,COMPANY_ID) VALUES ('Jane G.', 35, 5000.0, 2)\");\n",
    "conn.execute(\"INSERT INTO EMPLOYEE (NAME,AGE,SALARY,COMPANY_ID) VALUES ('Alan T.', 50, 6000.0, 2)\");"
   ]
  },
  {
   "cell_type": "code",
   "execution_count": null,
   "id": "9141b682-56c4-42a4-876d-9da925df42be",
   "metadata": {},
   "outputs": [],
   "source": [
    "cursor = conn.execute(\"SELECT id, name from COMPANY\")\n",
    "for row in cursor:\n",
    "    print(row)"
   ]
  },
  {
   "cell_type": "code",
   "execution_count": null,
   "id": "e66be8d4-9fb1-4053-b4ed-d8e764eefd1a",
   "metadata": {},
   "outputs": [],
   "source": [
    "cursor = conn.execute(\"SELECT id, name, age, salary, company_id from EMPLOYEE\")\n",
    "for row in cursor:\n",
    "    print(row)"
   ]
  },
  {
   "cell_type": "code",
   "execution_count": null,
   "id": "8031d7cc-6b5f-4277-a861-f16890dfdac4",
   "metadata": {},
   "outputs": [],
   "source": [
    "cursor = conn.execute('''\n",
    "SELECT \n",
    "    * \n",
    "FROM  \n",
    "    COMPANY \n",
    "LEFT JOIN \n",
    "    EMPLOYEE \n",
    "ON \n",
    "    COMPANY.ID==EMPLOYEE.COMPANY_ID\n",
    "''')\n",
    "for row in cursor:\n",
    "    print(row)"
   ]
  },
  {
   "cell_type": "markdown",
   "id": "2606ad14-5ca0-4699-8dcc-635182c08deb",
   "metadata": {},
   "source": [
    "---\n",
    "## Pandas a relacyjne bazy danych"
   ]
  },
  {
   "cell_type": "code",
   "execution_count": null,
   "id": "5496cf8d-bb82-4aca-a5d1-3c9a87897bcd",
   "metadata": {},
   "outputs": [],
   "source": [
    "import pandas as pd\n",
    "import numpy as np\n",
    "\n",
    "query = '''\n",
    "SELECT \n",
    "   c.id as cid, \n",
    "   c.name as cname, \n",
    "   c.created as ccreated, \n",
    "   e.id as eid, \n",
    "   e.name as ename, \n",
    "   age,\n",
    "   salary, \n",
    "   e.created as ecreated \n",
    "FROM\n",
    "   COMPANY as C \n",
    "LEFT JOIN \n",
    "   EMPLOYEE as E \n",
    "ON \n",
    "   C.ID==E.COMPANY_ID\n",
    "'''\n",
    "\n",
    "df = pd.read_sql(query, conn)\n",
    "df"
   ]
  },
  {
   "cell_type": "code",
   "execution_count": null,
   "id": "03b93835-6269-45ef-bcba-ef531476ac6f",
   "metadata": {},
   "outputs": [],
   "source": [
    "df.dtypes"
   ]
  },
  {
   "cell_type": "code",
   "execution_count": null,
   "id": "303d5982-a787-441e-adc1-159bb367a688",
   "metadata": {},
   "outputs": [],
   "source": [
    "df = pd.read_sql(query, conn, parse_dates=['ccreated', 'ecreated'])\n",
    "df"
   ]
  },
  {
   "cell_type": "code",
   "execution_count": null,
   "id": "de891cab-7ee6-4b4f-96c3-6a43b3b9d60f",
   "metadata": {},
   "outputs": [],
   "source": [
    "df.dtypes"
   ]
  },
  {
   "cell_type": "code",
   "execution_count": null,
   "id": "72b3ea5e-7fc7-4153-9509-51307e755d3b",
   "metadata": {},
   "outputs": [],
   "source": [
    "df = pd.DataFrame({'Student': {0: 'Kowalski J.', 1: 'Nowak A.', 2: 'Korzycki M.'},\n",
    "                   'WuEf': {0: 5, 1: 4, 2: 2},\n",
    "                   'Polski': {0: 4, 1: 4, 2: 2},\n",
    "                   'Matma': {0: 5, 1: 3, 2: 2}})\n",
    "df1 = pd.melt(df, id_vars=['Student'], value_vars=['WuEf', 'Matma', 'Polski'],\n",
    "       var_name='Przedmiot', value_name='Ocena')\n",
    "df1"
   ]
  },
  {
   "cell_type": "code",
   "execution_count": null,
   "id": "9de5fc2b-c7b1-42dd-9ca2-3b5ca1ac0cde",
   "metadata": {},
   "outputs": [],
   "source": [
    "df1.to_sql('oceny', conn)"
   ]
  },
  {
   "cell_type": "code",
   "execution_count": null,
   "id": "eced9f82-4370-4625-a5d4-092bff541f45",
   "metadata": {},
   "outputs": [],
   "source": [
    "cursor = conn.execute(\"SELECT * from oceny\")\n",
    "for row in cursor:\n",
    "    print(row)"
   ]
  },
  {
   "cell_type": "code",
   "execution_count": null,
   "id": "9c2535f2-5875-43ac-bca8-bb87532f91c0",
   "metadata": {},
   "outputs": [],
   "source": [
    "df1.to_sql('oceny', conn, if_exists='append')"
   ]
  },
  {
   "cell_type": "code",
   "execution_count": null,
   "id": "2b3f86fc-5115-4cf1-b0c2-322e56876bef",
   "metadata": {},
   "outputs": [],
   "source": [
    "cursor = conn.execute(\"SELECT * from oceny\")\n",
    "for row in cursor:\n",
    "    print(row)"
   ]
  },
  {
   "cell_type": "code",
   "execution_count": null,
   "id": "6c8ab49d-f366-4e23-810f-e1ee137e78ae",
   "metadata": {},
   "outputs": [],
   "source": [
    "df1.to_sql('oceny', conn, if_exists='replace')\n",
    "cursor = conn.execute(\"SELECT * from oceny\")\n",
    "for row in cursor:\n",
    "    print(row)"
   ]
  },
  {
   "cell_type": "markdown",
   "id": "d662fc97-6eab-45d4-8e16-eda596a69714",
   "metadata": {},
   "source": [
    "---\n",
    "## Odpowiedniki SQL w Pandasie\n",
    "\n",
    "### `SELECT`"
   ]
  },
  {
   "cell_type": "code",
   "execution_count": null,
   "id": "97cbe8a4-aee0-4ed2-938f-57dd76225cf3",
   "metadata": {},
   "outputs": [],
   "source": [
    "employee = pd.read_sql('SELECT id, name, age, salary, company_id FROM EMPLOYEE', conn)\n",
    "employee"
   ]
  },
  {
   "cell_type": "code",
   "execution_count": null,
   "id": "3960f732-9075-4a8a-9a82-3b93086124d2",
   "metadata": {},
   "outputs": [],
   "source": [
    "pd.read_sql('SELECT id, name, age, salary FROM EMPLOYEE', conn)"
   ]
  },
  {
   "cell_type": "code",
   "execution_count": null,
   "id": "ed8a5544-dc3c-462b-9137-4057d235b652",
   "metadata": {},
   "outputs": [],
   "source": [
    "employee[['ID', 'NAME', 'AGE', 'SALARY']]"
   ]
  },
  {
   "cell_type": "markdown",
   "id": "3a3d23d4-98da-4a3d-9761-a5a2eca95ba6",
   "metadata": {},
   "source": [
    "### `WHERE`"
   ]
  },
  {
   "cell_type": "code",
   "execution_count": null,
   "id": "9f904087-d68b-4640-a946-8d409d72bad3",
   "metadata": {},
   "outputs": [],
   "source": [
    "pd.read_sql(\n",
    "'''\n",
    "SELECT \n",
    "   id, name, age, salary, company_id \n",
    "FROM \n",
    "   EMPLOYEE \n",
    "WHERE \n",
    "   AGE>40\n",
    "''', conn)"
   ]
  },
  {
   "cell_type": "code",
   "execution_count": null,
   "id": "c389718c-e14e-4cce-8baa-3b32d0799f4a",
   "metadata": {},
   "outputs": [],
   "source": [
    "employee[employee[\"AGE\"] > 40]"
   ]
  },
  {
   "cell_type": "markdown",
   "id": "3aa95d98-7951-4a6b-8c39-cb515743d24a",
   "metadata": {},
   "source": [
    "### `GROUP BY`"
   ]
  },
  {
   "cell_type": "code",
   "execution_count": null,
   "id": "1d0ed128-bd79-4a82-9584-8cd1cf8fe6c4",
   "metadata": {},
   "outputs": [],
   "source": [
    "pd.read_sql('''\n",
    "SELECT\n",
    "    company_id, count(*) \n",
    "FROM \n",
    "    EMPLOYEE \n",
    "GROUP BY COMPANY_ID\n",
    "''', conn)"
   ]
  },
  {
   "cell_type": "code",
   "execution_count": null,
   "id": "89d19cd2-24f0-4475-8f2c-e37660677295",
   "metadata": {},
   "outputs": [],
   "source": [
    "pd.DataFrame(employee.groupby('COMPANY_ID')[\"NAME\"].count()).reset_index()"
   ]
  },
  {
   "cell_type": "markdown",
   "id": "a1cae279-5201-4fbd-974f-c92b34325e08",
   "metadata": {},
   "source": [
    "### `JOIN`"
   ]
  },
  {
   "cell_type": "code",
   "execution_count": null,
   "id": "0903d74d-3c1f-44cd-924d-b5ae9cfda4b9",
   "metadata": {},
   "outputs": [],
   "source": [
    "company = pd.read_sql('SELECT id, name FROM COMPANY', conn)\n",
    "company"
   ]
  },
  {
   "cell_type": "code",
   "execution_count": null,
   "id": "2ea633da-93c8-4f02-9a74-06c3717d441e",
   "metadata": {},
   "outputs": [],
   "source": [
    "query = '''\n",
    "SELECT \n",
    "   C.id as ID_COMPANY,\n",
    "   c.name as NAME_COMPANY,  \n",
    "   e.id as ID_EMPLOYEE, \n",
    "   e.name as NAME_EMPLOYEE, \n",
    "   age,\n",
    "   salary, \n",
    "   company_id\n",
    "FROM\n",
    "   COMPANY as C \n",
    "LEFT JOIN \n",
    "   EMPLOYEE as E \n",
    "ON \n",
    "   C.ID==E.COMPANY_ID\n",
    "'''\n",
    "pd.read_sql(query, conn)"
   ]
  },
  {
   "cell_type": "code",
   "execution_count": null,
   "id": "8d3b5e05-551b-442f-9da0-a24f535d0c03",
   "metadata": {},
   "outputs": [],
   "source": [
    "company.merge(employee, left_on='ID', right_on='COMPANY_ID', suffixes=(\"_COMPANY\",\"_EMPLOYEE\"))"
   ]
  },
  {
   "cell_type": "markdown",
   "id": "f7262243-a437-47d9-9014-536662e1b4d0",
   "metadata": {},
   "source": [
    "---\n",
    "## Dodatkowa sztuczka\n",
    "\n",
    "### `SQLITE` w pamięci !"
   ]
  },
  {
   "cell_type": "code",
   "execution_count": null,
   "id": "8366cebe-1c85-4be2-8553-6d9da91958c6",
   "metadata": {},
   "outputs": [],
   "source": [
    "import sqlite3\n",
    "\n",
    "conn = sqlite3.connect(':memory:')"
   ]
  },
  {
   "cell_type": "markdown",
   "id": "270686dd-4fb7-4ec8-90d4-1f93aa432fa9",
   "metadata": {},
   "source": [
    "---\n",
    "## Porównanie `SQL` vs `Pandas`"
   ]
  },
  {
   "cell_type": "markdown",
   "id": "cb61d912-e23a-4a60-a540-744cfc9ad891",
   "metadata": {},
   "source": [
    "### Za Pandasem\n",
    "- #### W Pandas można łatwo przechodzic <span style=\"color: cyan\">między kolumnami a wierszami</span>\n",
    "- #### W Pandas możemy mieć <span style=\"color: cyan\">hierarchiczne metadane</span>(`MultiIndex`) w kolumnach i <span style=\"color: cyan\">wierszach</span>\n",
    "- #### W Pandas format wyjścia jest <span style=\"color: cyan\">elastyczny</span>\n",
    "- #### Jest wiele narzędzi/bibliotek do przetwarzania danych w Pythonie z których można korzystać\n",
    "\n",
    "### Za SQL-em\n",
    "- #### Sprawniejszy przy dużych zbiorach danych \n",
    "  - ##### <span style=\"color: cyan\">Dużych</span> - *czyli więcej danych niż mi się mieści w RAM-ie (ang. __Out-of-Core__)*\n",
    "- #### Sformalizowany, <span style=\"color: cyan\">nieelastyczny format</span>\n",
    "\n",
    "---\n",
    "\n",
    "## API `Pandas` dzięki swej popularności stał się pewnego rodzaju standardem który został ponownie użyty w innych bibliotekach. Np.:\n",
    "- ### [`Polars`](https://www.pola.rs/) - *\"szybszy Pandas\"* przepisany w języku `Rust`\n",
    "- ### [`Dask`](https://docs.dask.org/en/stable/dataframe.html) - pandaso-podobna biblioteka do pracy __Out-of-Core__\n",
    "- ### Honorable mentions:\n",
    "  - [`Apache Arrow`](https://arrow.apache.org/)\n",
    "  - [`Koalas`](https://koalas.readthedocs.io/)\n",
    "  - [`Spark DataFrame`](https://spark.apache.org/)\n",
    "  - I wiele innych ..."
   ]
  }
 ],
 "metadata": {
  "kernelspec": {
   "display_name": ".venv",
   "language": "python",
   "name": "python3"
  },
  "language_info": {
   "codemirror_mode": {
    "name": "ipython",
    "version": 3
   },
   "file_extension": ".py",
   "mimetype": "text/x-python",
   "name": "python",
   "nbconvert_exporter": "python",
   "pygments_lexer": "ipython3",
   "version": "3.12.0"
  }
 },
 "nbformat": 4,
 "nbformat_minor": 5
}
