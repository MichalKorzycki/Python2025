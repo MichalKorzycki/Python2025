{
 "cells": [
  {
   "cell_type": "markdown",
   "id": "577f7533",
   "metadata": {},
   "source": [
    "# REST i `requests`\n",
    "\n",
    "\n",
    "- JSON - Javascript object notation\n",
    "- Zdalne API - protokoły - XML-RPC, SOAP, REST\n",
    "- REST - REpresentational state transfer\n",
    "  - Przeglądarka a API\n",
    "    - ![](https://api.chucknorris.io/img/avatar/chuck-norris.png) https://api.chucknorris.io/jokes/random\n",
    "  - http methods \n",
    "    - `GET` - pobranie (zawsze idempotentne - nie zmienia stanu)\n",
    "    - `POST` - tworzy zasób\n",
    "    - `PUT` - zmienia zasób\n",
    "    - `DELETE` - usuwa zasób\n",
    "- Biblioteka `requests`"
   ]
  },
  {
   "cell_type": "code",
   "execution_count": null,
   "id": "328f8a00",
   "metadata": {},
   "outputs": [],
   "source": [
    "import requests\n",
    "from pprint import pprint\n",
    "\n",
    "url = \"https://api.chucknorris.io/jokes/random\"\n",
    "response = requests.request(method=\"GET\", url=url)\n",
    "\n",
    "response.json()"
   ]
  },
  {
   "cell_type": "code",
   "execution_count": null,
   "id": "4f081264",
   "metadata": {},
   "outputs": [],
   "source": [
    "answer = response.json()\n",
    "answer['value']"
   ]
  },
  {
   "cell_type": "markdown",
   "id": "3b790b15",
   "metadata": {},
   "source": [
    "---\n",
    "## Zadanie \n",
    "\n",
    "1. Wyświetlić podstawowe dane (np. ludność, waluta, stolica, itp.) z: https://restcountries.com/v3.1/name/Poland?fullText=true\n",
    "\n",
    "2. Stworzyć DataFrame z danymi dla kilku krajów"
   ]
  }
 ],
 "metadata": {
  "kernelspec": {
   "display_name": "localvenv",
   "language": "python",
   "name": "python3"
  },
  "language_info": {
   "codemirror_mode": {
    "name": "ipython",
    "version": 3
   },
   "file_extension": ".py",
   "mimetype": "text/x-python",
   "name": "python",
   "nbconvert_exporter": "python",
   "pygments_lexer": "ipython3",
   "version": "3.13.5"
  }
 },
 "nbformat": 4,
 "nbformat_minor": 5
}
