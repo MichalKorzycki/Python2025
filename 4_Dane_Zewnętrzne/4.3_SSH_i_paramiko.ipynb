{
 "cells": [
  {
   "cell_type": "markdown",
   "id": "adff0df0",
   "metadata": {},
   "source": [
    "---\n",
    "### Paramiko i protokół SSH"
   ]
  },
  {
   "cell_type": "code",
   "execution_count": null,
   "id": "9e5f6a03",
   "metadata": {},
   "outputs": [],
   "source": [
    "import paramiko \n",
    "\n",
    "command = \"ls -la\"\n",
    "\n",
    "host = \"146.59.116.134\"\n",
    "username = \"python2025\"\n",
    "password = \"PAsbiO+Jak1Gv7FC\"\n",
    "\n",
    "client = paramiko.client.SSHClient()\n",
    "client.set_missing_host_key_policy(paramiko.AutoAddPolicy())\n",
    "pkey = paramiko.RSAKey.from_private_key_file(\"key.priv\")\n",
    "try:\n",
    "    client.connect(host, username=username, pkey=pkey, look_for_keys=False)\n",
    "    _stdin, _stdout,_stderr = client.exec_command(command)\n",
    "    print(_stdout.read().decode())\n",
    "except Exception as e:\n",
    "    print(e)\n",
    "finally:\n",
    "    client.close()"
   ]
  },
  {
   "cell_type": "code",
   "execution_count": null,
   "id": "daabd668",
   "metadata": {},
   "outputs": [],
   "source": [
    "import paramiko \n",
    "\n",
    "command = \"ls -la\"\n",
    "\n",
    "host = \"146.59.116.134\"\n",
    "username = \"python2025\"\n",
    "password = \"PAsbiO+Jak1Gv7FC\"\n",
    "\n",
    "with paramiko.client.SSHClient() as client:\n",
    "    client.set_missing_host_key_policy(paramiko.AutoAddPolicy())\n",
    "    pkey = paramiko.RSAKey.from_private_key_file(\"key.priv\")\n",
    "    client.connect(host, username=username, pkey=pkey, look_for_keys=False)\n",
    "    _stdin, _stdout,_stderr = client.exec_command(command)\n",
    "    print(_stdout.read().decode())\n"
   ]
  },
  {
   "cell_type": "code",
   "execution_count": null,
   "id": "21057cfd",
   "metadata": {},
   "outputs": [],
   "source": [
    "host = \"146.59.116.134\"\n",
    "username = \"python2025\"\n",
    "password = \"PAsbiO+Jak1Gv7FC\"\n",
    "pkey = paramiko.RSAKey.from_private_key_file(\"key.priv\")\n",
    "filename = \"example_file.txt\"\n",
    "\n",
    "\n",
    "\n",
    "with paramiko.client.SSHClient() as client:\n",
    "    client.set_missing_host_key_policy(paramiko.AutoAddPolicy())\n",
    "    pkey = paramiko.RSAKey.from_private_key_file(\"key.priv\")\n",
    "    client.connect(host, username=username, pkey=pkey, look_for_keys=False)\n",
    "    with client.open_sftp() as sftp:\n",
    "        sftp.get(remotepath=filename, localpath=filename)\n"
   ]
  }
 ],
 "metadata": {
  "kernelspec": {
   "display_name": "localvenv",
   "language": "python",
   "name": "python3"
  },
  "language_info": {
   "codemirror_mode": {
    "name": "ipython",
    "version": 3
   },
   "file_extension": ".py",
   "mimetype": "text/x-python",
   "name": "python",
   "nbconvert_exporter": "python",
   "pygments_lexer": "ipython3",
   "version": "3.13.5"
  }
 },
 "nbformat": 4,
 "nbformat_minor": 5
}
