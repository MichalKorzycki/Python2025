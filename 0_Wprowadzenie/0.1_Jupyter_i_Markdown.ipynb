{
 "cells": [
  {
   "cell_type": "markdown",
   "id": "882123ff-6899-4abf-90c8-02b85998f1da",
   "metadata": {
    "editable": true,
    "slideshow": {
     "slide_type": ""
    },
    "tags": []
   },
   "source": [
    "# Środowisko Pracy `Jupyter` i Język Markdown"
   ]
  },
  {
   "cell_type": "code",
   "execution_count": null,
   "id": "0d7c91d9",
   "metadata": {},
   "outputs": [],
   "source": [
    "print('Hello World')"
   ]
  },
  {
   "cell_type": "code",
   "execution_count": null,
   "id": "76037f0c-e8ee-4183-9c3b-744c7a5ad430",
   "metadata": {
    "editable": true,
    "slideshow": {
     "slide_type": ""
    },
    "tags": []
   },
   "outputs": [],
   "source": [
    "import pandas as pd\n",
    "import numpy as np\n",
    "import matplotlib.pyplot as plt\n",
    "import warnings\n",
    "warnings.filterwarnings(\"ignore\")\n",
    "plt.style.use(\"dark_background\")\n",
    "\n",
    "df = pd.DataFrame(np.random.randn(1000, 4), index=pd.date_range('1/1/2022', periods=1000), columns=list('ABCD')).cumsum()\n",
    "df"
   ]
  },
  {
   "cell_type": "code",
   "execution_count": null,
   "id": "f4b2162f-06a4-4350-bfbc-f7b502318503",
   "metadata": {},
   "outputs": [],
   "source": [
    "df.plot();"
   ]
  },
  {
   "cell_type": "markdown",
   "id": "09186dfa-8ba2-4134-b5be-8e88fba8f6bf",
   "metadata": {
    "editable": true,
    "slideshow": {
     "slide_type": ""
    },
    "tags": []
   },
   "source": [
    "---\n",
    "# Markdown\n"
   ]
  },
  {
   "cell_type": "markdown",
   "id": "b39650cb-fad1-4bc2-a733-a327c249aee2",
   "metadata": {},
   "source": [
    "\n",
    "\n",
    "\n",
    "\n",
    "# Tytuły\n",
    "\n",
    "\n",
    "\n",
    "## Podtytuł\n",
    "\n",
    "\n",
    "\n",
    "### Podtytuł 3ciego poziomu\n",
    "\n",
    "\n",
    "\n",
    "#### Podtytuł 4tego poziomu\n",
    "\n",
    "\n",
    "\n",
    "##### Podtytuł 5tego poziomu\n",
    "\n",
    "\n"
   ]
  },
  {
   "cell_type": "markdown",
   "id": "4930ab9a-79dd-4a28-a270-5720fe955683",
   "metadata": {},
   "source": [
    "# Linia oddzielająca \n",
    "\n",
    "\n",
    "---"
   ]
  },
  {
   "cell_type": "markdown",
   "id": "1f2e5f8a-48e5-4083-aa14-73b1e74710c7",
   "metadata": {},
   "source": [
    "# Kroje czcionki\n",
    "\n",
    "Napis pisany *Italikiem*\n",
    "\n",
    "Napis __Pogrubiony__\n",
    "\n",
    "Napis pisany __*Pogrubionym Italikiem*__\n"
   ]
  },
  {
   "cell_type": "markdown",
   "id": "6a2bda1f-e0e1-4efd-9472-30c303a0fa04",
   "metadata": {},
   "source": [
    "> # Nie należy wierzyć wszystkim cytatom z Internetu\n",
    "> # \n",
    "> ## <p style='text-align: right'>  - Mikołaj Kopernik </p> "
   ]
  },
  {
   "cell_type": "markdown",
   "id": "0fa4fcc2-4291-4c0e-aee0-91b28e391319",
   "metadata": {},
   "source": [
    "## <center> To jest tekst wyśrodkowany</center>"
   ]
  },
  {
   "cell_type": "markdown",
   "id": "0593c21f-3fea-45a5-98ba-e7d6beaed1d0",
   "metadata": {},
   "source": [
    "## <mark>  To jest tekst podświetlony  </mark>"
   ]
  },
  {
   "cell_type": "markdown",
   "id": "4bf42f84-afa5-4e0d-8f82-ab016d9c018c",
   "metadata": {},
   "source": [
    "A tak opisuje jakieś zmienne `variable` z kodu"
   ]
  },
  {
   "cell_type": "markdown",
   "id": "2578bbea-8740-4204-9f24-9344905cbb8f",
   "metadata": {},
   "source": [
    "# Linki i obrazy\n",
    "\n",
    "Link zaznaczamy tak - `[treść w klamrze](adres w nawiasie)` \n",
    "\n",
    "To jest link do [sajtu anacondy](https://www.anaconda.com/).\n",
    "\n",
    "Obraz jest podobnie dodany, tylko z wykrzyknikiem  - `![Opis obrazu](adres lokalny albo zdalne obrazu)` \n",
    "\n",
    "![image](https://www.anaconda.com/wp-content/uploads/2022/12/anaconda_secondary_logo.svg)\n",
    "\n"
   ]
  },
  {
   "cell_type": "markdown",
   "id": "28bed5d6-6342-40c2-a420-98de39c55bf4",
   "metadata": {},
   "source": [
    "---\n",
    "\n",
    "# Składnia Matematyczna ${LaTeX} $\n",
    "\n",
    "https://en.wikibooks.org/wiki/LaTeX/Mathematics\n",
    "\n",
    "Tak się wstawia wyrażenia matematyczne $n_{i+1} = n_i + 2^i$ do tekstu.\n",
    "\n",
    "\n"
   ]
  },
  {
   "cell_type": "markdown",
   "id": "7fb4b5cd-8fc0-4c48-b728-17ceb0ffeef9",
   "metadata": {},
   "source": [
    "A tak całe sekcje wyrażeń matematycznych:\n",
    "\n",
    "$$\n",
    " \\sum_{i=1}^{\\infty} \\frac{_1}{2^n} = 1\n",
    "$$\n",
    "\n"
   ]
  },
  {
   "cell_type": "markdown",
   "id": "9c6c310e-dd78-4a7d-8180-a97a749b7144",
   "metadata": {},
   "source": [
    "### A to: $P(A \\mid B) = \\frac{P(B \\mid A)P(A)}{P(B)}$ jest wzór <span style=\"color: cyan\">_**Bayesa**_</span>"
   ]
  },
  {
   "cell_type": "markdown",
   "id": "19d60e17",
   "metadata": {},
   "source": [
    "---\n",
    "Można też uruchamiać notebooki jak skrypty:\n",
    "\n",
    "`ipython`\n",
    "\n",
    "`%run test.ipynb`"
   ]
  }
 ],
 "metadata": {
  "kernelspec": {
   "display_name": "localvenv",
   "language": "python",
   "name": "python3"
  },
  "language_info": {
   "codemirror_mode": {
    "name": "ipython",
    "version": 3
   },
   "file_extension": ".py",
   "mimetype": "text/x-python",
   "name": "python",
   "nbconvert_exporter": "python",
   "pygments_lexer": "ipython3",
   "version": "3.13.5"
  }
 },
 "nbformat": 4,
 "nbformat_minor": 5
}
