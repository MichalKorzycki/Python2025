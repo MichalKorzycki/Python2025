{
 "cells": [
  {
   "cell_type": "markdown",
   "id": "17f883ad",
   "metadata": {},
   "source": [
    "# Stworzenie środowiska"
   ]
  },
  {
   "cell_type": "markdown",
   "id": "390e3133",
   "metadata": {},
   "source": [
    "- Stworzyć katalog roboczy, otworzyć _Visual Studio_ w nim\n",
    "- Uruchomić terminal (`Menu -> Terminal`) \n",
    "- Wydać polecenie `Set-ExecutionPolicy -Scope CurrentUser -ExecutionPolicy Unrestricted`\n",
    "- Założyć w terminalu środowisko wirtualne poleceniem `python3 -m venv myenv`\n",
    "- Aktywować środowisko wirtualne poleceniem `.\\myenv\\Scripts\\activate`\n",
    "- Zainstalować wymagane pakiety poprzez `python3 -m pip install -r requirements.txt`\n",
    "- rozpakować repozytorium:\n",
    "- stworzyć plik `test.ipynb`\n",
    "- Dodać komórkę z kodem poprzez `+ Code`\n",
    "- Wpisać do komórki `print(\"Hello World\")`\n",
    "- Uruchomić komórkę wybierając środowisko `myenv`"
   ]
  }
 ],
 "metadata": {
  "language_info": {
   "name": "python"
  }
 },
 "nbformat": 4,
 "nbformat_minor": 5
}
