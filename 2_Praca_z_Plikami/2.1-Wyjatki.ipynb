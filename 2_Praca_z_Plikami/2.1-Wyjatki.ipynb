{
 "cells": [
  {
   "cell_type": "markdown",
   "id": "d6205690",
   "metadata": {},
   "source": [
    "Wyjątki i obsługa błędów\n",
    "\n",
    "- Rodzaje błędów\n",
    "  - Programistyczne - te eliminujemy poprawiając kod\n",
    "  - Infrastruktury - nie naprawimy, ale przynajmniej komunikujemy\n",
    "  - Błedne dane - tu trzeba to obsłużyć - podając np. źródło błędu\n",
    "\n",
    "\n",
    "\n",
    "- Słowa kluczowe \n",
    "  - `try` \n",
    "  - `except`\n",
    "  - `finally` \n",
    "  - `with`\n",
    "\n",
    "- Logika obsługi błędów\n",
    "  - 1sza zasada kosmologii (__*S#!t happens*__)\n",
    "  - Nigdy nie przemilczaj błędów - minimum wypisz je na ekran\n",
    "  - *\"To nie mój problem\"* - obsługuj błędy tak \"wysoko\" w strukturze jak się da\n",
    "  \n",
    "\n",
    "- Prawidłowe zarządzanie zasobami przy użyciu `with` \n",
    "---\n"
   ]
  },
  {
   "cell_type": "code",
   "execution_count": null,
   "id": "85226e7d",
   "metadata": {},
   "outputs": [],
   "source": [
    "print(input(\"Podaj liczbe\"))"
   ]
  },
  {
   "cell_type": "code",
   "execution_count": null,
   "id": "107b8e3d",
   "metadata": {},
   "outputs": [],
   "source": [
    "n = input(\"Podaj liczbe\")\n",
    "print(f\"A to liczba zwiększona o 1: {n+1}\") # Błąd"
   ]
  },
  {
   "cell_type": "code",
   "execution_count": null,
   "id": "451f5592",
   "metadata": {},
   "outputs": [],
   "source": [
    "l = list(range(5, 10))\n",
    "print(l)\n",
    "i = int(input(\"podaj indeks \"))\n",
    "print(f'Pod indeksem {i} jest element {l[i]}')"
   ]
  },
  {
   "cell_type": "code",
   "execution_count": null,
   "id": "418cfe79",
   "metadata": {},
   "outputs": [],
   "source": [
    "l = list(range(5, 10))\n",
    "print(l)\n",
    "try:\n",
    "    i = int(input(\"podaj indeks \"))\n",
    "    print(f'Pod indeksem {i} jest element {l[i]}')  \n",
    "\n",
    "    # Tutaj powinna byc bardzo złozona operacja sprzatania\n",
    "\n",
    "except IndexError as e:\n",
    "    print(e)\n",
    "except ValueError as e:\n",
    "    print(\"In Value Error\")\n",
    "    print(e)\n",
    "except Exception as e:\n",
    "    print(\"In Exception\")\n",
    "    print(e)\n",
    "else:\n",
    "    print(\"Koniec\")\n",
    "finally:\n",
    "    print(\"Finally\")"
   ]
  },
  {
   "cell_type": "markdown",
   "id": "b1e4117a",
   "metadata": {},
   "source": [
    "# Zadanie\n",
    "- wczytaj przy użyciu `input` liczbę; wypisz sumę jej cyfr; jeśli podano błędne wejście, poproś jeszcze raz"
   ]
  }
 ],
 "metadata": {
  "kernelspec": {
   "display_name": "localvenv",
   "language": "python",
   "name": "python3"
  },
  "language_info": {
   "codemirror_mode": {
    "name": "ipython",
    "version": 3
   },
   "file_extension": ".py",
   "mimetype": "text/x-python",
   "name": "python",
   "nbconvert_exporter": "python",
   "pygments_lexer": "ipython3",
   "version": "3.13.5"
  }
 },
 "nbformat": 4,
 "nbformat_minor": 5
}
