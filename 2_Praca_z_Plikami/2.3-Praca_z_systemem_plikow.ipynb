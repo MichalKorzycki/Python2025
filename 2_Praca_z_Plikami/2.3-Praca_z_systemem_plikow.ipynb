{
 "cells": [
  {
   "cell_type": "markdown",
   "id": "77401d5d",
   "metadata": {},
   "source": [
    "# Praca z systemem plików \n",
    "\n",
    "- `os`\n",
    "- `shutil`\n",
    "- `glob`"
   ]
  },
  {
   "cell_type": "markdown",
   "id": "4d404622",
   "metadata": {},
   "source": [
    "## `os`\n",
    "\n",
    "https://docs.python.org/3/library/os.html"
   ]
  },
  {
   "cell_type": "code",
   "execution_count": null,
   "id": "40c0aba1",
   "metadata": {},
   "outputs": [],
   "source": [
    "import os\n",
    "\n",
    "os.getcwd()"
   ]
  },
  {
   "cell_type": "code",
   "execution_count": null,
   "id": "7e26c1eb",
   "metadata": {},
   "outputs": [],
   "source": [
    "os.getlogin()"
   ]
  },
  {
   "cell_type": "code",
   "execution_count": null,
   "id": "533bfbe5",
   "metadata": {},
   "outputs": [],
   "source": [
    "filename = \"plik.txt\"\n",
    "\n",
    "if os.access(filename, os.R_OK):\n",
    "    with open(filename) as fp:\n",
    "        print(fp.readlines())"
   ]
  },
  {
   "cell_type": "markdown",
   "id": "7f940f7c",
   "metadata": {},
   "source": [
    "## `os.path`\n",
    "\n",
    "https://docs.python.org/3/library/os.path.html"
   ]
  },
  {
   "cell_type": "code",
   "execution_count": null,
   "id": "c6d2149b",
   "metadata": {},
   "outputs": [],
   "source": [
    "zen = os.path.join(\"data\", \"zen.txt\")\n",
    "zen"
   ]
  },
  {
   "cell_type": "code",
   "execution_count": null,
   "id": "5e961ac7",
   "metadata": {},
   "outputs": [],
   "source": [
    "os.path.basename(zen)"
   ]
  },
  {
   "cell_type": "code",
   "execution_count": null,
   "id": "2acacedb",
   "metadata": {},
   "outputs": [],
   "source": [
    "os.path.abspath(zen)"
   ]
  },
  {
   "cell_type": "code",
   "execution_count": null,
   "id": "b5ce1e91",
   "metadata": {},
   "outputs": [],
   "source": [
    "os.path.getsize(zen)"
   ]
  },
  {
   "cell_type": "code",
   "execution_count": null,
   "id": "ac2dbe27",
   "metadata": {},
   "outputs": [],
   "source": [
    "os.path.exists(zen)"
   ]
  },
  {
   "cell_type": "markdown",
   "id": "86e88f3e",
   "metadata": {},
   "source": [
    "## `shutil`\n",
    "\n",
    "https://docs.python.org/3/library/shutil.html"
   ]
  },
  {
   "cell_type": "code",
   "execution_count": null,
   "id": "1722b075",
   "metadata": {},
   "outputs": [],
   "source": [
    "from pathlib import Path\n",
    "\n",
    "directory = Path('data')\n",
    "os.path.isdir(directory)"
   ]
  },
  {
   "cell_type": "code",
   "execution_count": null,
   "id": "907bd5e8",
   "metadata": {},
   "outputs": [],
   "source": [
    "import shutil\n",
    "\n",
    "shutil.copy('plik.txt', directory)"
   ]
  },
  {
   "cell_type": "markdown",
   "id": "677f1e3b",
   "metadata": {},
   "source": [
    "## `glob`\n",
    "\n",
    "https://docs.python.org/3/library/glob.html"
   ]
  },
  {
   "cell_type": "code",
   "execution_count": null,
   "id": "f487830b",
   "metadata": {},
   "outputs": [],
   "source": [
    "dirname = 'lots_of_files'\n",
    "os.makedirs(dirname, exist_ok = True)\n",
    "\n",
    "for num in range(100):\n",
    "    filename = os.path.join(dirname, f'{num:02}.txt')\n",
    "    with open(filename, 'w') as f:\n",
    "        f.write(str(num))"
   ]
  },
  {
   "cell_type": "code",
   "execution_count": null,
   "id": "757f57fa",
   "metadata": {},
   "outputs": [],
   "source": [
    "os.listdir(dirname)"
   ]
  },
  {
   "cell_type": "code",
   "execution_count": null,
   "id": "6a64aaeb",
   "metadata": {},
   "outputs": [],
   "source": [
    "import glob \n",
    "\n",
    "glob.glob('lots_of_files/2*.txt')"
   ]
  },
  {
   "cell_type": "code",
   "execution_count": null,
   "id": "3955a74c",
   "metadata": {},
   "outputs": [],
   "source": [
    "dirname2 = 'copy_of_lots_of_files'\n",
    "os.makedirs(dirname, exist_ok = True)\n",
    "shutil.copytree(dirname, dirname2, ignore=shutil.ignore_patterns('0*.txt'))"
   ]
  }
 ],
 "metadata": {
  "kernelspec": {
   "display_name": "localvenv",
   "language": "python",
   "name": "python3"
  },
  "language_info": {
   "codemirror_mode": {
    "name": "ipython",
    "version": 3
   },
   "file_extension": ".py",
   "mimetype": "text/x-python",
   "name": "python",
   "nbconvert_exporter": "python",
   "pygments_lexer": "ipython3",
   "version": "3.13.5"
  }
 },
 "nbformat": 4,
 "nbformat_minor": 5
}
