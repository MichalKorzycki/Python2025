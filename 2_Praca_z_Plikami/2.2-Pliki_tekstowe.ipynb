{
 "cells": [
  {
   "cell_type": "markdown",
   "id": "e596aded",
   "metadata": {},
   "source": [
    "# Pliki tekstowe\n",
    "\n",
    "- słowo kluczowe `with`\n",
    "- Czytanie z plików tekstowych\n",
    "  - `read()`\n",
    "  - `readlines()`\n",
    "  - `readline()`\n",
    "  - Sprawdzanie ilości linii w pliku\n",
    "  - Zapis do plików tekstowych\n",
    "  - Tryby otwarcia pliku\n",
    "- Wprowadzanie danych do pliku"
   ]
  },
  {
   "cell_type": "code",
   "execution_count": null,
   "id": "78eef645",
   "metadata": {},
   "outputs": [],
   "source": [
    "filename = 'data/zen.txt'"
   ]
  },
  {
   "cell_type": "code",
   "execution_count": null,
   "id": "9d98a3f4",
   "metadata": {},
   "outputs": [
    {
     "name": "stdout",
     "output_type": "stream",
     "text": [
      "000 The Zen of Python, by Tim Peters\n",
      "001 \n",
      "002 Beautiful is better than ugly.\n",
      "003 Explicit is better than implicit.\n",
      "004 Simple is better than complex.\n",
      "005 Complex is better than complicated.\n",
      "006 Flat is better than nested.\n",
      "007 Sparse is better than dense.\n",
      "008 Readability counts.\n",
      "009 Special cases aren't special enough to break the rules.\n",
      "010 Although practicality beats purity.\n",
      "011 Errors should never pass silently.\n",
      "012 Unless explicitly silenced.\n",
      "013 In the face of ambiguity, refuse the temptation to guess.\n",
      "014 There should be one-- and preferably only one --obvious way to do it.\n",
      "015 Although that way may not be obvious at first unless you're Dutch.\n",
      "016 Now is better than never.\n",
      "017 Although never is often better than *right* now.\n",
      "018 If the implementation is hard to explain, it's a bad idea.\n",
      "019 If the implementation is easy to explain, it may be a good idea.\n",
      "020 Namespaces are one honking great idea -- let's do more of those!\n"
     ]
    }
   ],
   "source": [
    "f = open(filename, encoding='utf8')\n",
    "\n",
    "n = 0\n",
    "\n",
    "for line in f:\n",
    "    print(f'{n:03d} {line.strip()}')\n",
    "    n += 1"
   ]
  },
  {
   "cell_type": "code",
   "execution_count": null,
   "id": "9a144f27",
   "metadata": {},
   "outputs": [],
   "source": [
    "f = open(filename, encoding='utf8')\n",
    "\n",
    "n = 0\n",
    "\n",
    "while line := f.readline():\n",
    "    print(f'{n:03d} {line.strip()}')\n",
    "    n += 1"
   ]
  },
  {
   "cell_type": "code",
   "execution_count": null,
   "id": "b062f307",
   "metadata": {},
   "outputs": [],
   "source": [
    "f = open(filename, encoding='utf8')\n",
    "\n",
    "print(f.readlines())"
   ]
  },
  {
   "cell_type": "code",
   "execution_count": null,
   "id": "b2825cf1",
   "metadata": {},
   "outputs": [],
   "source": []
  }
 ],
 "metadata": {
  "kernelspec": {
   "display_name": "localvenv",
   "language": "python",
   "name": "python3"
  },
  "language_info": {
   "codemirror_mode": {
    "name": "ipython",
    "version": 3
   },
   "file_extension": ".py",
   "mimetype": "text/x-python",
   "name": "python",
   "nbconvert_exporter": "python",
   "pygments_lexer": "ipython3",
   "version": "3.13.5"
  }
 },
 "nbformat": 4,
 "nbformat_minor": 5
}
