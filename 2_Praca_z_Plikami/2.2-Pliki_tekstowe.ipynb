{
 "cells": [
  {
   "cell_type": "markdown",
   "id": "e596aded",
   "metadata": {},
   "source": [
    "# Pliki tekstowe\n",
    "\n",
    "- słowo kluczowe `with`\n",
    "- Czytanie z plików tekstowych\n",
    "  - `read()`\n",
    "  - `readlines()`\n",
    "  - `readline()`\n",
    "  - Sprawdzanie ilości linii w pliku\n",
    "  - Zapis do plików tekstowych\n",
    "  - Tryby otwarcia pliku\n",
    "- Wprowadzanie danych do pliku"
   ]
  },
  {
   "cell_type": "code",
   "execution_count": null,
   "id": "78eef645",
   "metadata": {},
   "outputs": [],
   "source": [
    "filename = 'data/zen.txt'"
   ]
  },
  {
   "cell_type": "code",
   "execution_count": null,
   "id": "9d98a3f4",
   "metadata": {},
   "outputs": [],
   "source": [
    "f = open(filename, encoding='utf8')\n",
    "\n",
    "n = 0\n",
    "\n",
    "for line in f:\n",
    "    print(f'{n:03d} {line.strip()}')\n",
    "    n += 1"
   ]
  },
  {
   "cell_type": "code",
   "execution_count": null,
   "id": "9a144f27",
   "metadata": {},
   "outputs": [],
   "source": [
    "f = open(filename, encoding='utf8')\n",
    "\n",
    "n = 0\n",
    "\n",
    "while line := f.readline():\n",
    "    print(f'{n:03d} {line.strip()}')\n",
    "    n += 1"
   ]
  },
  {
   "cell_type": "code",
   "execution_count": null,
   "id": "b062f307",
   "metadata": {},
   "outputs": [],
   "source": [
    "f = open(filename, 'r', encoding='utf8')\n",
    "\n",
    "print(f.readlines())"
   ]
  },
  {
   "cell_type": "markdown",
   "id": "7620f553",
   "metadata": {},
   "source": [
    "## Tryby otwarcia\n",
    "\n",
    "- `r` - do odczytu,  DOMYŚLNY\n",
    "- `w` - do zapisu, od początku\n",
    "- `a` - _append_ do zapisu, na końcu\n"
   ]
  },
  {
   "cell_type": "code",
   "execution_count": null,
   "id": "b2825cf1",
   "metadata": {},
   "outputs": [],
   "source": [
    "f = open('plik.txt', 'w')\n",
    "f.write(\"Hello\\n\")\n",
    "f.close()"
   ]
  },
  {
   "cell_type": "code",
   "execution_count": null,
   "id": "31d504c2",
   "metadata": {},
   "outputs": [],
   "source": [
    "f = None\n",
    "\n",
    "try:\n",
    "    f = open('plik.txt', 'a')\n",
    "    f.write(\"Hello\\n\")\n",
    "except Exception as e:\n",
    "    print(\"Bląd\")\n",
    "    print(type(e))\n",
    "    print(e)\n",
    "finally:\n",
    "    if f is not None:\n",
    "        f.close()\n"
   ]
  },
  {
   "cell_type": "code",
   "execution_count": null,
   "id": "21224489",
   "metadata": {},
   "outputs": [],
   "source": [
    "with open('plik.txt', 'a') as f:\n",
    "    f.write(\"Hello\\n\")"
   ]
  },
  {
   "cell_type": "markdown",
   "id": "aba9f387",
   "metadata": {},
   "source": [
    "## Zadanie\n",
    "\n",
    "- Otwórz plik `data/food.csv`\n",
    "- wczytaj linia po linii, podziel linie poprzez `split(\",\")`\n",
    "- wypisz słownik dla każdej linii postaci `nagłówek:wartosc`"
   ]
  }
 ],
 "metadata": {
  "kernelspec": {
   "display_name": "localvenv",
   "language": "python",
   "name": "python3"
  },
  "language_info": {
   "codemirror_mode": {
    "name": "ipython",
    "version": 3
   },
   "file_extension": ".py",
   "mimetype": "text/x-python",
   "name": "python",
   "nbconvert_exporter": "python",
   "pygments_lexer": "ipython3",
   "version": "3.13.5"
  }
 },
 "nbformat": 4,
 "nbformat_minor": 5
}
