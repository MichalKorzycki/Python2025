{
 "cells": [
  {
   "cell_type": "markdown",
   "id": "3eadf727",
   "metadata": {},
   "source": [
    "# Czytanie plików CSV i Excel   "
   ]
  },
  {
   "cell_type": "code",
   "execution_count": null,
   "id": "29763d8b",
   "metadata": {},
   "outputs": [],
   "source": [
    "import csv\n",
    "\n",
    "data = []\n",
    "\n",
    "filename = 'data/foods.csv'\n",
    "\n",
    "with open(filename) as csvfile:\n",
    "    reader = csv.DictReader(csvfile)\n",
    "    for row in reader:\n",
    "        data.append(row)\n",
    "\n",
    "data"
   ]
  },
  {
   "cell_type": "code",
   "execution_count": null,
   "id": "582206a0",
   "metadata": {},
   "outputs": [],
   "source": [
    "data = []\n",
    "\n",
    "filename = 'data/jamesbond.csv'\n",
    "\n",
    "with open(filename) as csvfile:\n",
    "    reader = csv.DictReader(csvfile)\n",
    "    for row in reader:\n",
    "        data.append(row)\n",
    "\n",
    "data"
   ]
  },
  {
   "cell_type": "markdown",
   "id": "bd83fe9c",
   "metadata": {},
   "source": [
    "## Pandas "
   ]
  },
  {
   "cell_type": "code",
   "execution_count": null,
   "id": "2ee548ad",
   "metadata": {},
   "outputs": [],
   "source": [
    "import pandas as pd\n",
    "\n",
    "df1 = pd.read_csv('data/foods.csv', index_col=0)\n",
    "\n",
    "df1"
   ]
  },
  {
   "cell_type": "code",
   "execution_count": null,
   "id": "7b90896d",
   "metadata": {},
   "outputs": [],
   "source": [
    "df1 = pd.read_csv('data/jamesbond.csv', index_col=0)\n",
    "\n",
    "df1"
   ]
  },
  {
   "cell_type": "code",
   "execution_count": null,
   "id": "56e8c664",
   "metadata": {},
   "outputs": [],
   "source": [
    "excel_filename = 'data/data.xlsx'\n",
    "\n",
    "df = pd.read_excel(excel_filename)\n",
    "\n",
    "df"
   ]
  },
  {
   "cell_type": "code",
   "execution_count": null,
   "id": "bcfef18d",
   "metadata": {},
   "outputs": [],
   "source": [
    "excel_filename = 'data/data.xlsx'\n",
    "\n",
    "df = pd.read_excel(excel_filename, sheet_name=\"foods\")\n",
    "\n",
    "df"
   ]
  },
  {
   "cell_type": "code",
   "execution_count": null,
   "id": "39f0487f",
   "metadata": {},
   "outputs": [],
   "source": [
    "data = {}\n",
    "\n",
    "with open(excel_filename, 'rb') as excelfile:\n",
    "    excel = pd.ExcelFile(excelfile)\n",
    "    sheets = pd.ExcelFile(excelfile).sheet_names\n",
    "    print(f\"Sheet names: {sheets}\")\n",
    "    for sheet in sheets:\n",
    "        data[sheet] = pd.read_excel(excel, sheet_name=sheet)\n",
    "\n"
   ]
  },
  {
   "cell_type": "code",
   "execution_count": null,
   "id": "351f163d",
   "metadata": {},
   "outputs": [],
   "source": [
    "data['jamesbond']"
   ]
  },
  {
   "cell_type": "code",
   "execution_count": null,
   "id": "0d76d864",
   "metadata": {},
   "outputs": [],
   "source": [
    "data['foods']"
   ]
  }
 ],
 "metadata": {
  "kernelspec": {
   "display_name": "localvenv",
   "language": "python",
   "name": "python3"
  },
  "language_info": {
   "codemirror_mode": {
    "name": "ipython",
    "version": 3
   },
   "file_extension": ".py",
   "mimetype": "text/x-python",
   "name": "python",
   "nbconvert_exporter": "python",
   "pygments_lexer": "ipython3",
   "version": "3.13.5"
  }
 },
 "nbformat": 4,
 "nbformat_minor": 5
}
